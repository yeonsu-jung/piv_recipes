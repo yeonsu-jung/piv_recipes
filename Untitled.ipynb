{
 "cells": [
  {
   "cell_type": "code",
   "execution_count": 10,
   "metadata": {},
   "outputs": [
    {
     "name": "stdout",
     "output_type": "stream",
     "text": [
      "[{'sample': 'Flat_10', 'motor': 25.0, 'pos': 1.0, 'VOFFSET': 0.0, 'ag': 2.0, 'laser': 10.0, 'path': 'Flat_10_motor25.00_pos1_VOFFSET0_01-18_ag2_laser10'}, {'sample': '1_1_1_10', 'motor': 25.0, 'pos': 1.0, 'VOFFSET': 0.0, 'ag': 2.0, 'laser': 10.0, 'path': 'img_1_1_1_10_motor25.00_pos1_VOFFSET0_ag2_laser10'}, {'sample': 'test2_Flat_10', 'test': 2.0, 'motor': 5.0, 'pos': 1.0, 'VOFFSET': 0.0, 'ag': 2.0, 'laser': 10.0, 'path': 'img_test2_Flat_10_motor5.00_pos1_VOFFSET0_ag2_laser10'}, {'sample': 'test_Flat_10', 'motor': 5.0, 'pos': 1.0, 'VOFFSET': 0.0, 'ag': 2.0, 'laser': 10.0, 'path': 'test_Flat_10_motor5.00_pos1_VOFFSET0_01-18_ag2_laser10'}, {'sample': 'Flat_10', 'motor': 25.0, 'pos': 1.0, 'VOFFSET': 80.0, 'ag': 2.0, 'laser': 10.0, 'path': 'Flat_10_motor25.00_pos1_VOFFSET80_01-18_ag2_laser10'}, {'sample': '1_1_1_10', 'motor': 25.0, 'pos': 1.0, 'VOFFSET': 80.0, 'ag': 2.0, 'laser': 10.0, 'path': 'img_1_1_1_10_motor25.00_pos1_VOFFSET80_ag2_laser10'}, {'sample': 'test2_Flat_10', 'test': 2.0, 'motor': 5.0, 'pos': 1.0, 'VOFFSET': 80.0, 'ag': 2.0, 'laser': 10.0, 'path': 'img_test2_Flat_10_motor5.00_pos1_VOFFSET80_ag2_laser10'}, {'sample': 'test_Flat_10', 'motor': 5.0, 'pos': 1.0, 'VOFFSET': 80.0, 'ag': 2.0, 'laser': 10.0, 'path': 'test_Flat_10_motor5.00_pos1_VOFFSET80_01-18_ag2_laser10'}, {'sample': 'Flat_10', 'motor': 25.0, 'pos': 1.0, 'VOFFSET': 160.0, 'ag': 2.0, 'laser': 10.0, 'path': 'Flat_10_motor25.00_pos1_VOFFSET160_01-18_ag2_laser10'}, {'sample': '1_1_1_10', 'motor': 25.0, 'pos': 1.0, 'VOFFSET': 160.0, 'ag': 2.0, 'laser': 10.0, 'path': 'img_1_1_1_10_motor25.00_pos1_VOFFSET160_ag2_laser10'}, {'sample': 'Flat_10', 'motor': 25.0, 'pos': 1.0, 'VOFFSET': 240.0, 'ag': 2.0, 'laser': 10.0, 'path': 'Flat_10_motor25.00_pos1_VOFFSET240_01-18_ag2_laser10'}, {'sample': '1_1_1_10', 'motor': 25.0, 'pos': 1.0, 'VOFFSET': 240.0, 'ag': 2.0, 'laser': 10.0, 'path': 'img_1_1_1_10_motor25.00_pos1_VOFFSET240_ag2_laser10'}, {'sample': 'Flat_10', 'motor': 25.0, 'pos': 1.0, 'VOFFSET': 320.0, 'ag': 2.0, 'laser': 10.0, 'path': 'Flat_10_motor25.00_pos1_VOFFSET320_01-18_ag2_laser10'}, {'sample': '1_1_1_10', 'motor': 25.0, 'pos': 1.0, 'VOFFSET': 320.0, 'ag': 2.0, 'laser': 10.0, 'path': 'img_1_1_1_10_motor25.00_pos1_VOFFSET320_ag2_laser10'}, {'sample': 'Flat_10', 'motor': 25.0, 'pos': 1.0, 'VOFFSET': 400.0, 'ag': 2.0, 'laser': 10.0, 'path': 'Flat_10_motor25.00_pos1_VOFFSET400_01-18_ag2_laser10'}, {'sample': '1_1_1_10', 'motor': 25.0, 'pos': 1.0, 'VOFFSET': 400.0, 'ag': 2.0, 'laser': 10.0, 'path': 'img_1_1_1_10_motor25.00_pos1_VOFFSET400_ag2_laser10'}, {'sample': 'Flat_10', 'motor': 25.0, 'pos': 1.0, 'VOFFSET': 480.0, 'ag': 2.0, 'laser': 10.0, 'path': 'Flat_10_motor25.00_pos1_VOFFSET480_01-18_ag2_laser10'}, {'sample': '1_1_1_10', 'motor': 25.0, 'pos': 1.0, 'VOFFSET': 480.0, 'ag': 2.0, 'laser': 10.0, 'path': 'img_1_1_1_10_motor25.00_pos1_VOFFSET480_ag2_laser10'}, {'sample': 'Flat_10', 'motor': 25.0, 'pos': 1.0, 'VOFFSET': 560.0, 'ag': 2.0, 'laser': 10.0, 'path': 'Flat_10_motor25.00_pos1_VOFFSET560_01-18_ag2_laser10'}, {'sample': '1_1_1_10', 'motor': 25.0, 'pos': 1.0, 'VOFFSET': 560.0, 'ag': 2.0, 'laser': 10.0, 'path': 'img_1_1_1_10_motor25.00_pos1_VOFFSET560_ag2_laser10'}, {'sample': 'Flat_10', 'motor': 25.0, 'pos': 1.0, 'VOFFSET': 640.0, 'ag': 2.0, 'laser': 10.0, 'path': 'Flat_10_motor25.00_pos1_VOFFSET640_01-18_ag2_laser10'}, {'sample': '1_1_1_10', 'motor': 25.0, 'pos': 1.0, 'VOFFSET': 640.0, 'ag': 2.0, 'laser': 10.0, 'path': 'img_1_1_1_10_motor25.00_pos1_VOFFSET640_ag2_laser10'}, {'sample': 'Flat_10', 'motor': 25.0, 'pos': 1.0, 'VOFFSET': 720.0, 'ag': 2.0, 'laser': 10.0, 'path': 'Flat_10_motor25.00_pos1_VOFFSET720_01-18_ag2_laser10'}, {'sample': '1_1_1_10', 'motor': 25.0, 'pos': 1.0, 'VOFFSET': 720.0, 'ag': 2.0, 'laser': 10.0, 'path': 'img_1_1_1_10_motor25.00_pos1_VOFFSET720_ag2_laser10'}, {'sample': 'Flat_10', 'motor': 25.0, 'pos': 1.0, 'VOFFSET': 800.0, 'ag': 2.0, 'laser': 10.0, 'path': 'Flat_10_motor25.00_pos1_VOFFSET800_01-18_ag2_laser10'}, {'sample': '1_1_1_10', 'motor': 25.0, 'pos': 1.0, 'VOFFSET': 800.0, 'ag': 2.0, 'laser': 10.0, 'path': 'img_1_1_1_10_motor25.00_pos1_VOFFSET800_ag2_laser10'}, {'sample': 'Flat_10', 'motor': 25.0, 'pos': 1.0, 'VOFFSET': 880.0, 'ag': 2.0, 'laser': 10.0, 'path': 'Flat_10_motor25.00_pos1_VOFFSET880_01-18_ag2_laser10'}, {'sample': '1_1_1_10', 'motor': 25.0, 'pos': 1.0, 'VOFFSET': 880.0, 'ag': 2.0, 'laser': 10.0, 'path': 'img_1_1_1_10_motor25.00_pos1_VOFFSET880_ag2_laser10'}, {'sample': '1_1_1_10', 'motor': 25.0, 'pos': 2.0, 'VOFFSET': 0.0, 'ag': 2.0, 'laser': 3.0, 'path': 'img_1_1_1_10_motor25.00_pos2_VOFFSET0_ag2_laser3'}, {'sample': '1_1_1_10', 'motor': 25.0, 'pos': 2.0, 'VOFFSET': 80.0, 'ag': 2.0, 'laser': 3.0, 'path': 'img_1_1_1_10_motor25.00_pos2_VOFFSET80_ag2_laser3'}, {'sample': '1_1_1_10', 'motor': 25.0, 'pos': 2.0, 'VOFFSET': 160.0, 'ag': 2.0, 'laser': 3.0, 'path': 'img_1_1_1_10_motor25.00_pos2_VOFFSET160_ag2_laser3'}, {'sample': '1_1_1_10', 'motor': 25.0, 'pos': 2.0, 'VOFFSET': 240.0, 'ag': 2.0, 'laser': 3.0, 'path': 'img_1_1_1_10_motor25.00_pos2_VOFFSET240_ag2_laser3'}, {'sample': '1_1_1_10', 'motor': 25.0, 'pos': 2.0, 'VOFFSET': 320.0, 'ag': 2.0, 'laser': 3.0, 'path': 'img_1_1_1_10_motor25.00_pos2_VOFFSET320_ag2_laser3'}, {'sample': '1_1_1_10', 'motor': 25.0, 'pos': 2.0, 'VOFFSET': 400.0, 'ag': 2.0, 'laser': 3.0, 'path': 'img_1_1_1_10_motor25.00_pos2_VOFFSET400_ag2_laser3'}, {'sample': '1_1_1_10', 'motor': 25.0, 'pos': 2.0, 'VOFFSET': 480.0, 'ag': 2.0, 'laser': 3.0, 'path': 'img_1_1_1_10_motor25.00_pos2_VOFFSET480_ag2_laser3'}, {'sample': '1_1_1_10', 'motor': 25.0, 'pos': 2.0, 'VOFFSET': 560.0, 'ag': 2.0, 'laser': 3.0, 'path': 'img_1_1_1_10_motor25.00_pos2_VOFFSET560_ag2_laser3'}, {'sample': '1_1_1_10', 'motor': 25.0, 'pos': 2.0, 'VOFFSET': 640.0, 'ag': 2.0, 'laser': 3.0, 'path': 'img_1_1_1_10_motor25.00_pos2_VOFFSET640_ag2_laser3'}, {'sample': '1_1_1_10', 'motor': 25.0, 'pos': 2.0, 'VOFFSET': 720.0, 'ag': 2.0, 'laser': 3.0, 'path': 'img_1_1_1_10_motor25.00_pos2_VOFFSET720_ag2_laser3'}, {'sample': '1_1_1_10', 'motor': 25.0, 'pos': 2.0, 'VOFFSET': 800.0, 'ag': 2.0, 'laser': 3.0, 'path': 'img_1_1_1_10_motor25.00_pos2_VOFFSET800_ag2_laser3'}, {'sample': '1_1_1_10', 'motor': 25.0, 'pos': 2.0, 'VOFFSET': 880.0, 'ag': 2.0, 'laser': 3.0, 'path': 'img_1_1_1_10_motor25.00_pos2_VOFFSET880_ag2_laser3'}, {'sample': '1_1_1_10', 'motor': 25.0, 'pos': 3.0, 'VOFFSET': 0.0, 'ag': 2.0, 'laser': 1.0, 'path': 'img_1_1_1_10_motor25.00_pos3_VOFFSET0_ag2_laser1'}, {'sample': '1_1_1_10', 'motor': 25.0, 'pos': 3.0, 'VOFFSET': 80.0, 'ag': 2.0, 'laser': 1.0, 'path': 'img_1_1_1_10_motor25.00_pos3_VOFFSET80_ag2_laser1'}, {'sample': '1_1_1_10', 'motor': 25.0, 'pos': 3.0, 'VOFFSET': 160.0, 'ag': 2.0, 'laser': 1.0, 'path': 'img_1_1_1_10_motor25.00_pos3_VOFFSET160_ag2_laser1'}, {'sample': '1_1_1_10', 'motor': 25.0, 'pos': 3.0, 'VOFFSET': 240.0, 'ag': 2.0, 'laser': 1.0, 'path': 'img_1_1_1_10_motor25.00_pos3_VOFFSET240_ag2_laser1'}, {'sample': '1_1_1_10', 'motor': 25.0, 'pos': 3.0, 'VOFFSET': 320.0, 'ag': 2.0, 'laser': 1.0, 'path': 'img_1_1_1_10_motor25.00_pos3_VOFFSET320_ag2_laser1'}, {'sample': '1_1_1_10', 'motor': 25.0, 'pos': 3.0, 'VOFFSET': 400.0, 'ag': 2.0, 'laser': 1.0, 'path': 'img_1_1_1_10_motor25.00_pos3_VOFFSET400_ag2_laser1'}, {'sample': '1_1_1_10', 'motor': 25.0, 'pos': 3.0, 'VOFFSET': 480.0, 'ag': 2.0, 'laser': 1.0, 'path': 'img_1_1_1_10_motor25.00_pos3_VOFFSET480_ag2_laser1'}, {'sample': '1_1_1_10', 'motor': 25.0, 'pos': 3.0, 'VOFFSET': 560.0, 'ag': 2.0, 'laser': 1.0, 'path': 'img_1_1_1_10_motor25.00_pos3_VOFFSET560_ag2_laser1'}, {'sample': '1_1_1_10', 'motor': 25.0, 'pos': 3.0, 'VOFFSET': 640.0, 'ag': 2.0, 'laser': 1.0, 'path': 'img_1_1_1_10_motor25.00_pos3_VOFFSET640_ag2_laser1'}, {'sample': '1_1_1_10', 'motor': 25.0, 'pos': 3.0, 'VOFFSET': 720.0, 'ag': 2.0, 'laser': 1.0, 'path': 'img_1_1_1_10_motor25.00_pos3_VOFFSET720_ag2_laser1'}, {'sample': '1_1_1_10', 'motor': 25.0, 'pos': 3.0, 'VOFFSET': 800.0, 'ag': 2.0, 'laser': 1.0, 'path': 'img_1_1_1_10_motor25.00_pos3_VOFFSET800_ag2_laser1'}, {'sample': '1_1_1_10', 'motor': 25.0, 'pos': 3.0, 'VOFFSET': 880.0, 'ag': 2.0, 'laser': 1.0, 'path': 'img_1_1_1_10_motor25.00_pos3_VOFFSET880_ag2_laser1'}, {'sample': '1_1_1_10', 'motor': 25.0, 'pos': 4.0, 'VOFFSET': 0.0, 'ag': 2.0, 'laser': 1.0, 'path': 'img_1_1_1_10_motor25.00_pos4_VOFFSET0_ag2_laser1'}, {'sample': '1_1_1_10', 'motor': 25.0, 'pos': 4.0, 'VOFFSET': 80.0, 'ag': 2.0, 'laser': 1.0, 'path': 'img_1_1_1_10_motor25.00_pos4_VOFFSET80_ag2_laser1'}, {'sample': '1_1_1_10', 'motor': 25.0, 'pos': 4.0, 'VOFFSET': 160.0, 'ag': 2.0, 'laser': 1.0, 'path': 'img_1_1_1_10_motor25.00_pos4_VOFFSET160_ag2_laser1'}, {'sample': '1_1_1_10', 'motor': 25.0, 'pos': 4.0, 'VOFFSET': 240.0, 'ag': 2.0, 'laser': 1.0, 'path': 'img_1_1_1_10_motor25.00_pos4_VOFFSET240_ag2_laser1'}, {'sample': '1_1_1_10', 'motor': 25.0, 'pos': 4.0, 'VOFFSET': 320.0, 'ag': 2.0, 'laser': 1.0, 'path': 'img_1_1_1_10_motor25.00_pos4_VOFFSET320_ag2_laser1'}, {'sample': '1_1_1_10', 'motor': 25.0, 'pos': 4.0, 'VOFFSET': 400.0, 'ag': 2.0, 'laser': 1.0, 'path': 'img_1_1_1_10_motor25.00_pos4_VOFFSET400_ag2_laser1'}, {'sample': '1_1_1_10', 'motor': 25.0, 'pos': 4.0, 'VOFFSET': 480.0, 'ag': 2.0, 'laser': 1.0, 'path': 'img_1_1_1_10_motor25.00_pos4_VOFFSET480_ag2_laser1'}, {'sample': '1_1_1_10', 'motor': 25.0, 'pos': 4.0, 'VOFFSET': 560.0, 'ag': 2.0, 'laser': 1.0, 'path': 'img_1_1_1_10_motor25.00_pos4_VOFFSET560_ag2_laser1'}, {'sample': '1_1_1_10', 'motor': 25.0, 'pos': 4.0, 'VOFFSET': 640.0, 'ag': 2.0, 'laser': 1.0, 'path': 'img_1_1_1_10_motor25.00_pos4_VOFFSET640_ag2_laser1'}, {'sample': '1_1_1_10', 'motor': 25.0, 'pos': 4.0, 'VOFFSET': 720.0, 'ag': 2.0, 'laser': 1.0, 'path': 'img_1_1_1_10_motor25.00_pos4_VOFFSET720_ag2_laser1'}, {'sample': '1_1_1_10', 'motor': 25.0, 'pos': 4.0, 'VOFFSET': 800.0, 'ag': 2.0, 'laser': 1.0, 'path': 'img_1_1_1_10_motor25.00_pos4_VOFFSET800_ag2_laser1'}, {'sample': '1_1_1_10', 'motor': 25.0, 'pos': 4.0, 'VOFFSET': 880.0, 'ag': 2.0, 'laser': 1.0, 'path': 'img_1_1_1_10_motor25.00_pos4_VOFFSET880_ag2_laser1'}, {'sample': '1_1_1_10', 'motor': 25.0, 'pos': 5.0, 'VOFFSET': 0.0, 'ag': 2.0, 'laser': 1.0, 'path': 'img_1_1_1_10_motor25.00_pos5_VOFFSET0_ag2_laser1'}, {'sample': '1_1_1_10', 'motor': 25.0, 'pos': 5.0, 'VOFFSET': 80.0, 'ag': 2.0, 'laser': 1.0, 'path': 'img_1_1_1_10_motor25.00_pos5_VOFFSET80_ag2_laser1'}, {'sample': '1_1_1_10', 'motor': 25.0, 'pos': 5.0, 'VOFFSET': 160.0, 'ag': 2.0, 'laser': 1.0, 'path': 'img_1_1_1_10_motor25.00_pos5_VOFFSET160_ag2_laser1'}, {'sample': '1_1_1_10', 'motor': 25.0, 'pos': 5.0, 'VOFFSET': 240.0, 'ag': 2.0, 'laser': 1.0, 'path': 'img_1_1_1_10_motor25.00_pos5_VOFFSET240_ag2_laser1'}, {'sample': '1_1_1_10', 'motor': 25.0, 'pos': 5.0, 'VOFFSET': 320.0, 'ag': 2.0, 'laser': 1.0, 'path': 'img_1_1_1_10_motor25.00_pos5_VOFFSET320_ag2_laser1'}, {'sample': '1_1_1_10', 'motor': 25.0, 'pos': 5.0, 'VOFFSET': 400.0, 'ag': 2.0, 'laser': 1.0, 'path': 'img_1_1_1_10_motor25.00_pos5_VOFFSET400_ag2_laser1'}, {'sample': '1_1_1_10', 'motor': 25.0, 'pos': 5.0, 'VOFFSET': 480.0, 'ag': 2.0, 'laser': 1.0, 'path': 'img_1_1_1_10_motor25.00_pos5_VOFFSET480_ag2_laser1'}, {'sample': '1_1_1_10', 'motor': 25.0, 'pos': 5.0, 'VOFFSET': 560.0, 'ag': 2.0, 'laser': 1.0, 'path': 'img_1_1_1_10_motor25.00_pos5_VOFFSET560_ag2_laser1'}, {'sample': '1_1_1_10', 'motor': 25.0, 'pos': 5.0, 'VOFFSET': 640.0, 'ag': 2.0, 'laser': 1.0, 'path': 'img_1_1_1_10_motor25.00_pos5_VOFFSET640_ag2_laser1'}, {'sample': '1_1_1_10', 'motor': 25.0, 'pos': 5.0, 'VOFFSET': 720.0, 'ag': 2.0, 'laser': 1.0, 'path': 'img_1_1_1_10_motor25.00_pos5_VOFFSET720_ag2_laser1'}, {'sample': '1_1_1_10', 'motor': 25.0, 'pos': 5.0, 'VOFFSET': 800.0, 'ag': 2.0, 'laser': 1.0, 'path': 'img_1_1_1_10_motor25.00_pos5_VOFFSET800_ag2_laser1'}, {'sample': '1_1_1_10', 'motor': 25.0, 'pos': 5.0, 'VOFFSET': 880.0, 'ag': 2.0, 'laser': 1.0, 'path': 'img_1_1_1_10_motor25.00_pos5_VOFFSET880_ag2_laser1'}, {'sample': '1_1_1_10', 'motor': 25.0, 'pos': 6.0, 'VOFFSET': 0.0, 'ag': 2.0, 'laser': 5.0, 'path': 'img_1_1_1_10_motor25.00_pos6_VOFFSET0_ag2_laser5'}, {'sample': '1_1_1_10', 'motor': 25.0, 'pos': 6.0, 'VOFFSET': 80.0, 'ag': 2.0, 'laser': 5.0, 'path': 'img_1_1_1_10_motor25.00_pos6_VOFFSET80_ag2_laser5'}, {'sample': '1_1_1_10', 'motor': 25.0, 'pos': 6.0, 'VOFFSET': 160.0, 'ag': 2.0, 'laser': 5.0, 'path': 'img_1_1_1_10_motor25.00_pos6_VOFFSET160_ag2_laser5'}, {'sample': '1_1_1_10', 'motor': 25.0, 'pos': 6.0, 'VOFFSET': 240.0, 'ag': 2.0, 'laser': 5.0, 'path': 'img_1_1_1_10_motor25.00_pos6_VOFFSET240_ag2_laser5'}, {'sample': '1_1_1_10', 'motor': 25.0, 'pos': 6.0, 'VOFFSET': 320.0, 'ag': 2.0, 'laser': 5.0, 'path': 'img_1_1_1_10_motor25.00_pos6_VOFFSET320_ag2_laser5'}, {'sample': '1_1_1_10', 'motor': 25.0, 'pos': 6.0, 'VOFFSET': 400.0, 'ag': 2.0, 'laser': 5.0, 'path': 'img_1_1_1_10_motor25.00_pos6_VOFFSET400_ag2_laser5'}, {'sample': '1_1_1_10', 'motor': 25.0, 'pos': 6.0, 'VOFFSET': 480.0, 'ag': 2.0, 'laser': 5.0, 'path': 'img_1_1_1_10_motor25.00_pos6_VOFFSET480_ag2_laser5'}, {'sample': '1_1_1_10', 'motor': 25.0, 'pos': 6.0, 'VOFFSET': 560.0, 'ag': 2.0, 'laser': 5.0, 'path': 'img_1_1_1_10_motor25.00_pos6_VOFFSET560_ag2_laser5'}, {'sample': '1_1_1_10', 'motor': 25.0, 'pos': 6.0, 'VOFFSET': 640.0, 'ag': 2.0, 'laser': 5.0, 'path': 'img_1_1_1_10_motor25.00_pos6_VOFFSET640_ag2_laser5'}, {'sample': '1_1_1_10', 'motor': 25.0, 'pos': 6.0, 'VOFFSET': 720.0, 'ag': 2.0, 'laser': 5.0, 'path': 'img_1_1_1_10_motor25.00_pos6_VOFFSET720_ag2_laser5'}, {'sample': '1_1_1_10', 'motor': 25.0, 'pos': 6.0, 'VOFFSET': 800.0, 'ag': 2.0, 'laser': 5.0, 'path': 'img_1_1_1_10_motor25.00_pos6_VOFFSET800_ag2_laser5'}, {'sample': '1_1_1_10', 'motor': 25.0, 'pos': 6.0, 'VOFFSET': 880.0, 'ag': 2.0, 'laser': 5.0, 'path': 'img_1_1_1_10_motor25.00_pos6_VOFFSET880_ag2_laser5'}]\n"
     ]
    }
   ],
   "source": [
    "import openpiv_recipes\n",
    "\n",
    "folder_path = 'D:/ROWLAND/piv-data/2021-01-19'\n",
    "pi = openpiv_recipes.ParticleImage(folder_path)\n",
    "print(pi.param_dict_list)"
   ]
  },
  {
   "cell_type": "code",
   "execution_count": 11,
   "metadata": {},
   "outputs": [],
   "source": [
    "dd = {\"sample\": 'Flat_10',\"motor\":25.0,\"pos\":1,\"VOFFSET\":80}"
   ]
  },
  {
   "cell_type": "code",
   "execution_count": 12,
   "metadata": {},
   "outputs": [],
   "source": [
    "lis = pi.param_dict_list"
   ]
  },
  {
   "cell_type": "code",
   "execution_count": 15,
   "metadata": {},
   "outputs": [
    {
     "data": {
      "text/plain": [
       "[{'sample': 'Flat_10',\n",
       "  'motor': 25.0,\n",
       "  'pos': 1.0,\n",
       "  'VOFFSET': 80.0,\n",
       "  'ag': 2.0,\n",
       "  'laser': 10.0,\n",
       "  'path': 'Flat_10_motor25.00_pos1_VOFFSET80_01-18_ag2_laser10'}]"
      ]
     },
     "execution_count": 15,
     "metadata": {},
     "output_type": "execute_result"
    }
   ],
   "source": [
    "[x for x in lis if dd.items() <= x.items()]"
   ]
  },
  {
   "cell_type": "code",
   "execution_count": null,
   "metadata": {},
   "outputs": [],
   "source": []
  }
 ],
 "metadata": {
  "kernelspec": {
   "display_name": "Python 3",
   "language": "python",
   "name": "python3"
  },
  "language_info": {
   "codemirror_mode": {
    "name": "ipython",
    "version": 3
   },
   "file_extension": ".py",
   "mimetype": "text/x-python",
   "name": "python",
   "nbconvert_exporter": "python",
   "pygments_lexer": "ipython3",
   "version": "3.7.8"
  }
 },
 "nbformat": 4,
 "nbformat_minor": 4
}
