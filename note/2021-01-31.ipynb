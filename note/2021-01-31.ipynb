{
 "metadata": {
  "language_info": {
   "codemirror_mode": {
    "name": "ipython",
    "version": 3
   },
   "file_extension": ".py",
   "mimetype": "text/x-python",
   "name": "python",
   "nbconvert_exporter": "python",
   "pygments_lexer": "ipython3",
   "version": "3.7.8-final"
  },
  "orig_nbformat": 2,
  "kernelspec": {
   "name": "python3",
   "display_name": "Python 3",
   "language": "python"
  }
 },
 "nbformat": 4,
 "nbformat_minor": 2,
 "cells": [
  {
   "source": [
    "import numpy as np\n",
    "\n",
    "\n",
    "1.\tThe image pairs do not give proper cross-correlation results or velocity vectors and only some of the cases work with a very narrow range of parameters. \n",
    "\n",
    "It seems that 1/20 data works. Please see the slide on page. XX.\n",
    "\n",
    "2.\tNeither openPIV nor PIVlab is able to resolve the problem. \n",
    "\n",
    "3.\tWhen the min/max limits of the velocities are used to choose an acceptable range of velocities, the results are all over the place and there is no one cluster where the bulk of the results are there and the rest being outliers. That makes it really hard to distinguish between correct and incorrect vectors. \n",
    "\n",
    "4.\tThe groups that give a BL-like result give a velocity magnitude of about 1/4-1/3 of the number read from the flowmeter and unless there is something missing about the scale factor, this makes the results questionable. Were these results coincidentally BL-like? or is there something else in the experiment that could have made it possible for the velocity to become lower?\n",
    "\n",
    "** check with 500 us.\n",
    "\n",
    "5.\tFrom what it seems there are enough particles suspended in the water to give readable images, but the observation that we need larger windows to make it work makes me think whether the timing between the two pulses is too far away that we lose the particle pairs between the two images? Or is there too much 3D motion that the particles go in the out-of-plane direction (up-down motion)? \n",
    "\n",
    "\n",
    "\n",
    "6.\tIdentifying and removing the edge of the wall or not doing that does not help or hurt the PIV algorithms. Either way, it is not possible to get meaningful results. \n",
    "\n",
    "\n",
    "\n",
    "7.\tThe sensor array used is very slim in the streamwise direction. That allows for only 3-4 rows of data in that direction. Our main source of particle loss is most likely to be in the streamwise direction, so even increasing the search area won't be helpful if there is no information within the search window. \n",
    "\n"
   ],
   "cell_type": "markdown",
   "metadata": {}
  },
  {
   "cell_type": "code",
   "execution_count": 2,
   "metadata": {},
   "outputs": [],
   "source": [
    "import numpy as np\n",
    "from matplotlib import pyplot as plt"
   ]
  },
  {
   "cell_type": "code",
   "execution_count": null,
   "metadata": {},
   "outputs": [],
   "source": [
    "xx = np.linspace(0,1,100)\n",
    "yy = "
   ]
  }
 ]
}