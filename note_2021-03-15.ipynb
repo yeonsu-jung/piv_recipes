{
 "cells": [
  {
   "cell_type": "code",
   "execution_count": 16,
   "id": "received-uncle",
   "metadata": {},
   "outputs": [
    {
     "output_type": "execute_result",
     "data": {
      "text/plain": [
       "<module 'openpiv_recipes' from 'c:\\\\Users\\\\yj\\\\Documents\\\\GitHub\\\\piv_recipes\\\\openpiv_recipes.py'>"
      ]
     },
     "metadata": {},
     "execution_count": 16
    }
   ],
   "source": [
    "import openpiv_recipes as piv\n",
    "import importlib\n",
    "import numpy as np\n",
    "import os\n",
    "import time\n",
    "import matplotlib.cm as cm\n",
    "\n",
    "from matplotlib import pyplot as plt\n",
    "\n",
    "t = time.time()\n",
    "importlib.reload(piv)"
   ]
  },
  {
   "cell_type": "code",
   "execution_count": 1,
   "id": "spiritual-investor",
   "metadata": {},
   "outputs": [],
   "source": [
    "folder_path = '/Users/yeonsu/Dropbox (Harvard University)/Riblet/data/piv-data/2021-03-11/Flat_10 (black)_motor15'\n",
    "results_folder_path = '/Users/yeonsu/Dropbox (Harvard University)/Riblet/data/piv-results'\n",
    "\n",
    "# folder_path = \"C:\\\\Users\\\\yj\\\\Dropbox (Harvard University)\\\\Riblet\\\\data\\\\piv-data\\\\2021-03-11\\\\Flat_10 (black)_motor15\"\n",
    "# results_folder_path = 'C:\\\\Users\\\\yj\\\\Dropbox (Harvard University)\\\\Riblet\\\\data\\\\piv-results'\n",
    "\n",
    "u_path = os.path.join(results_folder_path,'entire_u_tavg.txt')"
   ]
  },
  {
   "cell_type": "code",
   "execution_count": null,
   "metadata": {},
   "outputs": [],
   "source": []
  }
 ],
 "metadata": {
  "kernelspec": {
   "display_name": "Python 3",
   "language": "python",
   "name": "python3"
  },
  "language_info": {
   "codemirror_mode": {
    "name": "ipython",
    "version": 3
   },
   "file_extension": ".py",
   "mimetype": "text/x-python",
   "name": "python",
   "nbconvert_exporter": "python",
   "pygments_lexer": "ipython3",
   "version": "3.8.8-final"
  }
 },
 "nbformat": 4,
 "nbformat_minor": 5
}