{
 "cells": [
  {
   "cell_type": "code",
   "execution_count": 48,
   "metadata": {},
   "outputs": [
    {
     "data": {
      "text/plain": [
       "<module 'openpiv_recipes' from '/Users/yeonsu/Documents/github/piv_recipes/openpiv_recipes.py'>"
      ]
     },
     "execution_count": 48,
     "metadata": {},
     "output_type": "execute_result"
    }
   ],
   "source": [
    "import openpiv_recipes as piv\n",
    "import importlib\n",
    "importlib.reload(piv)"
   ]
  },
  {
   "cell_type": "code",
   "execution_count": 49,
   "metadata": {},
   "outputs": [],
   "source": [
    "folder_path = '/Users/yeonsu/Dropbox (Harvard University)/Riblet/data/piv-data/2021-03-02'\n",
    "results_folder_path = '/Users/yeonsu/Dropbox (Harvard University)/Riblet/data/piv-results'\n",
    "\n",
    "# folder_path = \"C:\\\\Users\\\\yj\\\\Dropbox (Harvard University)\\\\Riblet\\\\data\\\\piv-data\\\\2021-03-02\"\n",
    "# results_folder_path = 'C:\\\\Users\\\\yj\\\\Dropbox (Harvard University)\\\\Riblet\\\\data\\\\piv-results'\n",
    "\n",
    "pi = piv.ParticleImage(folder_path,results_folder_path)"
   ]
  },
  {
   "cell_type": "code",
   "execution_count": 50,
   "metadata": {},
   "outputs": [
    {
     "name": "stdout",
     "output_type": "stream",
     "text": [
      "{'winsize': 28, 'searchsize': 34, 'overlap': 24, 'dt': 0.0003, 'image_check': False, 'show_vertical_profiles': False, 'figure_export_name': '_quick_piv.tiff', 'text_export_name': '_quick_piv.txt', 'scale_factor': 30000.0, 'pixel_density': 47, 'arrow_width': 0.001, 'show_result': False, 'u_bound': [-50, 50], 'v_bound': [-1000, 0], 'transpose': False, 'crop': [0, 0, 408, 0], 'sn_threshold': 1.000001, 'rotate': 0.25}\n",
      "- PIV parameters -\n",
      "winsize: 28\n",
      "searchsize: 34\n",
      "overlap: 24\n",
      "dt: 0.0003\n",
      "image_check: False\n",
      "show_vertical_profiles: False\n",
      "figure_export_name: _quick_piv.tiff\n",
      "text_export_name: _quick_piv.txt\n",
      "scale_factor: 30000.0\n",
      "pixel_density: 47\n",
      "arrow_width: 0.001\n",
      "show_result: False\n",
      "u_bound: [-50, 50]\n",
      "v_bound: [-1000, 0]\n",
      "transpose: False\n",
      "crop: [0, 0, 408, 0]\n",
      "sn_threshold: 1.000001\n",
      "rotate: 0.25\n",
      "Read image from: 0302_Exp31\n",
      "Number of invalid vectors: 0\n"
     ]
    },
    {
     "name": "stderr",
     "output_type": "stream",
     "text": [
      "/Users/yeonsu/Documents/github/piv_recipes/openpiv_recipes.py:583: RuntimeWarning: divide by zero encountered in true_divide\n"
     ]
    },
    {
     "name": "stdout",
     "output_type": "stream",
     "text": [
      "Mean of u: -2.844\n",
      "Std of u: 6.259\n",
      "Mean of v: -449.330\n",
      "Std of v: 61.917\n"
     ]
    }
   ],
   "source": [
    "search_dict = {'path': '0302_Exp31'}\n",
    "\n",
    "piv_cond = {\n",
    "    \"winsize\": 28, \"searchsize\": 34, \"overlap\": 24,\n",
    "    \"pixel_density\": 47,\"scale_factor\": 3e4, \"arrow_width\": 0.001,\n",
    "    \"u_bound\": [-50,50],\"v_bound\": [-1000,0],\n",
    "    \"transpose\": False, \"show_result\": False, \"crop\": [0,0,408,0],\n",
    "    \"sn_threshold\": 1.000001,'dt': 0.0003,\n",
    "    \"rotate\": 0.25\n",
    "}\n",
    "\n",
    "pi.set_piv_param(piv_cond)\n",
    "\n",
    "print(pi.piv_param)\n",
    "\n",
    "x,y,u,v = pi.quick_piv(search_dict,index_a = 4, index_b = 5)"
   ]
  },
  {
   "cell_type": "code",
   "execution_count": 51,
   "metadata": {},
   "outputs": [
    {
     "name": "stdout",
     "output_type": "stream",
     "text": [
      "{'winsize': 28, 'searchsize': 34, 'overlap': 24, 'dt': 0.0001, 'image_check': False, 'show_vertical_profiles': False, 'figure_export_name': '_quick_piv.tiff', 'text_export_name': '_quick_piv.txt', 'scale_factor': 30000.0, 'pixel_density': 47, 'arrow_width': 0.001, 'show_result': False, 'u_bound': [-50, 50], 'v_bound': [-1000, 0], 'transpose': False, 'crop': [0, 0, 408, 0], 'sn_threshold': 1.000001, 'rotate': 0.25}\n",
      "- PIV parameters -\n",
      "winsize: 28\n",
      "searchsize: 34\n",
      "overlap: 24\n",
      "dt: 0.0001\n",
      "image_check: False\n",
      "show_vertical_profiles: False\n",
      "figure_export_name: _quick_piv.tiff\n",
      "text_export_name: _quick_piv.txt\n",
      "scale_factor: 30000.0\n",
      "pixel_density: 47\n",
      "arrow_width: 0.001\n",
      "show_result: False\n",
      "u_bound: [-50, 50]\n",
      "v_bound: [-1000, 0]\n",
      "transpose: False\n",
      "crop: [0, 0, 408, 0]\n",
      "sn_threshold: 1.000001\n",
      "rotate: 0.25\n",
      "Read image from: 0302_Exp18\n",
      "Number of invalid vectors: 0\n",
      "Mean of u: -4.085\n",
      "Std of u: 8.414\n",
      "Mean of v: -381.140\n",
      "Std of v: 89.025\n"
     ]
    }
   ],
   "source": [
    "search_dict = {'path': '0302_Exp18'}\n",
    "\n",
    "piv_cond = {\n",
    "    \"winsize\": 28, \"searchsize\": 34, \"overlap\": 24,\n",
    "    \"pixel_density\": 47,\"scale_factor\": 3e4, \"arrow_width\": 0.001,\n",
    "    \"u_bound\": [-50,50],\"v_bound\": [-1000,0],\n",
    "    \"transpose\": False, \"show_result\": False, \"crop\": [0,0,408,0],\n",
    "    \"sn_threshold\": 1.000001,'dt': 0.0001,\n",
    "    \"rotate\": 0.25\n",
    "}\n",
    "\n",
    "pi.set_piv_param(piv_cond)\n",
    "\n",
    "print(pi.piv_param)\n",
    "\n",
    "x,y,u,v = pi.quick_piv(search_dict,index_a = 5, index_b = 6)"
   ]
  },
  {
   "cell_type": "code",
   "execution_count": 52,
   "metadata": {},
   "outputs": [
    {
     "name": "stdout",
     "output_type": "stream",
     "text": [
      "{'winsize': 28, 'searchsize': 34, 'overlap': 24, 'dt': 0.0001, 'image_check': False, 'show_vertical_profiles': False, 'figure_export_name': '_quick_piv.tiff', 'text_export_name': '_quick_piv.txt', 'scale_factor': 30000.0, 'pixel_density': 47, 'arrow_width': 0.001, 'show_result': False, 'u_bound': [-50, 50], 'v_bound': [-1000, 0], 'transpose': False, 'crop': [0, 0, 408, 0], 'sn_threshold': 1.000001, 'rotate': 0.25}\n",
      "- PIV parameters -\n",
      "winsize: 28\n",
      "searchsize: 34\n",
      "overlap: 24\n",
      "dt: 0.0001\n",
      "image_check: False\n",
      "show_vertical_profiles: False\n",
      "figure_export_name: _quick_piv.tiff\n",
      "text_export_name: _quick_piv.txt\n",
      "scale_factor: 30000.0\n",
      "pixel_density: 47\n",
      "arrow_width: 0.001\n",
      "show_result: False\n",
      "u_bound: [-50, 50]\n",
      "v_bound: [-1000, 0]\n",
      "transpose: False\n",
      "crop: [0, 0, 408, 0]\n",
      "sn_threshold: 1.000001\n",
      "rotate: 0.25\n",
      "Read image from: 0302_Exp19\n",
      "Number of invalid vectors: 0\n",
      "Mean of u: -2.131\n",
      "Std of u: 10.401\n",
      "Mean of v: -361.115\n",
      "Std of v: 95.883\n"
     ]
    }
   ],
   "source": [
    "search_dict = {'path': '0302_Exp19'}\n",
    "\n",
    "piv_cond = {\n",
    "    \"winsize\": 28, \"searchsize\": 34, \"overlap\": 24,\n",
    "    \"pixel_density\": 47,\"scale_factor\": 3e4, \"arrow_width\": 0.001,\n",
    "    \"u_bound\": [-50,50],\"v_bound\": [-1000,0],\n",
    "    \"transpose\": False, \"show_result\": False, \"crop\": [0,0,408,0],\n",
    "    \"sn_threshold\": 1.000001,'dt': 0.0001,\n",
    "    \"rotate\": 0.25\n",
    "}\n",
    "\n",
    "pi.set_piv_param(piv_cond)\n",
    "\n",
    "print(pi.piv_param)\n",
    "\n",
    "x,y,u,v = pi.quick_piv(search_dict,index_a = 5, index_b = 6)"
   ]
  },
  {
   "cell_type": "code",
   "execution_count": 53,
   "metadata": {},
   "outputs": [
    {
     "name": "stdout",
     "output_type": "stream",
     "text": [
      "{'winsize': 28, 'searchsize': 34, 'overlap': 24, 'dt': 0.0001, 'image_check': False, 'show_vertical_profiles': False, 'figure_export_name': '_quick_piv.tiff', 'text_export_name': '_quick_piv.txt', 'scale_factor': 30000.0, 'pixel_density': 47, 'arrow_width': 0.001, 'show_result': False, 'u_bound': [-50, 50], 'v_bound': [-1000, 0], 'transpose': False, 'crop': [0, 0, 408, 0], 'sn_threshold': 1.000001, 'rotate': 0.25}\n",
      "- PIV parameters -\n",
      "winsize: 28\n",
      "searchsize: 34\n",
      "overlap: 24\n",
      "dt: 0.0001\n",
      "image_check: False\n",
      "show_vertical_profiles: False\n",
      "figure_export_name: _quick_piv.tiff\n",
      "text_export_name: _quick_piv.txt\n",
      "scale_factor: 30000.0\n",
      "pixel_density: 47\n",
      "arrow_width: 0.001\n",
      "show_result: False\n",
      "u_bound: [-50, 50]\n",
      "v_bound: [-1000, 0]\n",
      "transpose: False\n",
      "crop: [0, 0, 408, 0]\n",
      "sn_threshold: 1.000001\n",
      "rotate: 0.25\n",
      "Read image from: 0302_Exp20\n",
      "Number of invalid vectors: 0\n",
      "Mean of u: -7.384\n",
      "Std of u: 8.709\n",
      "Mean of v: -355.857\n",
      "Std of v: 79.670\n"
     ]
    }
   ],
   "source": [
    "search_dict = {'path': '0302_Exp20'}\n",
    "\n",
    "piv_cond = {\n",
    "    \"winsize\": 28, \"searchsize\": 34, \"overlap\": 24,\n",
    "    \"pixel_density\": 47,\"scale_factor\": 3e4, \"arrow_width\": 0.001,\n",
    "    \"u_bound\": [-50,50],\"v_bound\": [-1000,0],\n",
    "    \"transpose\": False, \"show_result\": False, \"crop\": [0,0,408,0],\n",
    "    \"sn_threshold\": 1.000001,'dt': 0.0001,\n",
    "    \"rotate\": 0.25\n",
    "}\n",
    "\n",
    "pi.set_piv_param(piv_cond)\n",
    "\n",
    "print(pi.piv_param)\n",
    "\n",
    "x,y,u,v = pi.quick_piv(search_dict,index_a = 5, index_b = 6)"
   ]
  },
  {
   "cell_type": "code",
   "execution_count": 55,
   "metadata": {},
   "outputs": [
    {
     "name": "stdout",
     "output_type": "stream",
     "text": [
      "{'winsize': 28, 'searchsize': 34, 'overlap': 24, 'dt': 0.0001, 'image_check': False, 'show_vertical_profiles': False, 'figure_export_name': '_quick_piv.tiff', 'text_export_name': '_quick_piv.txt', 'scale_factor': 30000.0, 'pixel_density': 47, 'arrow_width': 0.001, 'show_result': False, 'u_bound': [-50, 50], 'v_bound': [-1000, 0], 'transpose': False, 'crop': [0, 0, 408, 0], 'sn_threshold': 1.3, 'rotate': 0.25}\n",
      "- PIV parameters -\n",
      "winsize: 28\n",
      "searchsize: 34\n",
      "overlap: 24\n",
      "dt: 0.0001\n",
      "image_check: False\n",
      "show_vertical_profiles: False\n",
      "figure_export_name: _quick_piv.tiff\n",
      "text_export_name: _quick_piv.txt\n",
      "scale_factor: 30000.0\n",
      "pixel_density: 47\n",
      "arrow_width: 0.001\n",
      "show_result: False\n",
      "u_bound: [-50, 50]\n",
      "v_bound: [-1000, 0]\n",
      "transpose: False\n",
      "crop: [0, 0, 408, 0]\n",
      "sn_threshold: 1.3\n",
      "rotate: 0.25\n",
      "Read image from: 0302_Exp21\n",
      "Number of invalid vectors: 0\n",
      "Mean of u: -1.864\n",
      "Std of u: 8.671\n",
      "Mean of v: -383.630\n",
      "Std of v: 81.702\n"
     ]
    }
   ],
   "source": [
    "search_dict = {'path': '0302_Exp21'}\n",
    "\n",
    "piv_cond = {\n",
    "    \"winsize\": 28, \"searchsize\": 34, \"overlap\": 24,\n",
    "    \"pixel_density\": 47,\"scale_factor\": 3e4, \"arrow_width\": 0.001,\n",
    "    \"u_bound\": [-50,50],\"v_bound\": [-1000,0],\n",
    "    \"transpose\": False, \"show_result\": False, \"crop\": [0,0,408,0],\n",
    "    \"sn_threshold\": 1.3,'dt': 0.0001,\n",
    "    \"rotate\": 0.25\n",
    "}\n",
    "\n",
    "pi.set_piv_param(piv_cond)\n",
    "\n",
    "print(pi.piv_param)\n",
    "\n",
    "x,y,u,v = pi.quick_piv(search_dict,index_a = 5, index_b = 6)"
   ]
  },
  {
   "cell_type": "code",
   "execution_count": 56,
   "metadata": {},
   "outputs": [
    {
     "name": "stdout",
     "output_type": "stream",
     "text": [
      "{'winsize': 28, 'searchsize': 34, 'overlap': 24, 'dt': 0.0001, 'image_check': False, 'show_vertical_profiles': False, 'figure_export_name': '_quick_piv.tiff', 'text_export_name': '_quick_piv.txt', 'scale_factor': 30000.0, 'pixel_density': 47, 'arrow_width': 0.001, 'show_result': False, 'u_bound': [-50, 50], 'v_bound': [-1000, 0], 'transpose': False, 'crop': [0, 0, 408, 0], 'sn_threshold': 1.3, 'rotate': 0.25}\n",
      "- PIV parameters -\n",
      "winsize: 28\n",
      "searchsize: 34\n",
      "overlap: 24\n",
      "dt: 0.0001\n",
      "image_check: False\n",
      "show_vertical_profiles: False\n",
      "figure_export_name: _quick_piv.tiff\n",
      "text_export_name: _quick_piv.txt\n",
      "scale_factor: 30000.0\n",
      "pixel_density: 47\n",
      "arrow_width: 0.001\n",
      "show_result: False\n",
      "u_bound: [-50, 50]\n",
      "v_bound: [-1000, 0]\n",
      "transpose: False\n",
      "crop: [0, 0, 408, 0]\n",
      "sn_threshold: 1.3\n",
      "rotate: 0.25\n",
      "Read image from: 0302_Exp22\n",
      "Number of invalid vectors: 0\n",
      "Mean of u: -4.565\n",
      "Std of u: 8.966\n",
      "Mean of v: -358.716\n",
      "Std of v: 89.646\n"
     ]
    }
   ],
   "source": [
    "search_dict = {'path': '0302_Exp22'}\n",
    "\n",
    "piv_cond = {\n",
    "    \"winsize\": 28, \"searchsize\": 34, \"overlap\": 24,\n",
    "    \"pixel_density\": 47,\"scale_factor\": 3e4, \"arrow_width\": 0.001,\n",
    "    \"u_bound\": [-50,50],\"v_bound\": [-1000,0],\n",
    "    \"transpose\": False, \"show_result\": False, \"crop\": [0,0,408,0],\n",
    "    \"sn_threshold\": 1.3,'dt': 0.0001,\n",
    "    \"rotate\": 0.25\n",
    "}\n",
    "\n",
    "pi.set_piv_param(piv_cond)\n",
    "\n",
    "print(pi.piv_param)\n",
    "\n",
    "x,y,u,v = pi.quick_piv(search_dict,index_a = 5, index_b = 6)"
   ]
  },
  {
   "cell_type": "code",
   "execution_count": 57,
   "metadata": {},
   "outputs": [
    {
     "name": "stdout",
     "output_type": "stream",
     "text": [
      "{'winsize': 28, 'searchsize': 34, 'overlap': 24, 'dt': 0.0001, 'image_check': False, 'show_vertical_profiles': False, 'figure_export_name': '_quick_piv.tiff', 'text_export_name': '_quick_piv.txt', 'scale_factor': 30000.0, 'pixel_density': 47, 'arrow_width': 0.001, 'show_result': False, 'u_bound': [-50, 50], 'v_bound': [-1000, 0], 'transpose': False, 'crop': [0, 0, 408, 0], 'sn_threshold': 1.3, 'rotate': 0.25}\n",
      "- PIV parameters -\n",
      "winsize: 28\n",
      "searchsize: 34\n",
      "overlap: 24\n",
      "dt: 0.0001\n",
      "image_check: False\n",
      "show_vertical_profiles: False\n",
      "figure_export_name: _quick_piv.tiff\n",
      "text_export_name: _quick_piv.txt\n",
      "scale_factor: 30000.0\n",
      "pixel_density: 47\n",
      "arrow_width: 0.001\n",
      "show_result: False\n",
      "u_bound: [-50, 50]\n",
      "v_bound: [-1000, 0]\n",
      "transpose: False\n",
      "crop: [0, 0, 408, 0]\n",
      "sn_threshold: 1.3\n",
      "rotate: 0.25\n",
      "Read image from: 0302_Exp23\n",
      "Number of invalid vectors: 0\n",
      "Mean of u: -0.465\n",
      "Std of u: 6.123\n",
      "Mean of v: -407.237\n",
      "Std of v: 54.870\n"
     ]
    }
   ],
   "source": [
    "search_dict = {'path': '0302_Exp23'}\n",
    "\n",
    "piv_cond = {\n",
    "    \"winsize\": 28, \"searchsize\": 34, \"overlap\": 24,\n",
    "    \"pixel_density\": 47,\"scale_factor\": 3e4, \"arrow_width\": 0.001,\n",
    "    \"u_bound\": [-50,50],\"v_bound\": [-1000,0],\n",
    "    \"transpose\": False, \"show_result\": False, \"crop\": [0,0,408,0],\n",
    "    \"sn_threshold\": 1.3,'dt': 0.0001,\n",
    "    \"rotate\": 0.25\n",
    "}\n",
    "\n",
    "pi.set_piv_param(piv_cond)\n",
    "\n",
    "print(pi.piv_param)\n",
    "\n",
    "x,y,u,v = pi.quick_piv(search_dict,index_a = 5, index_b = 6)"
   ]
  },
  {
   "cell_type": "code",
   "execution_count": 58,
   "metadata": {},
   "outputs": [
    {
     "name": "stdout",
     "output_type": "stream",
     "text": [
      "{'winsize': 28, 'searchsize': 34, 'overlap': 24, 'dt': 0.0001, 'image_check': False, 'show_vertical_profiles': False, 'figure_export_name': '_quick_piv.tiff', 'text_export_name': '_quick_piv.txt', 'scale_factor': 30000.0, 'pixel_density': 47, 'arrow_width': 0.001, 'show_result': False, 'u_bound': [-50, 50], 'v_bound': [-1000, 0], 'transpose': False, 'crop': [0, 0, 408, 0], 'sn_threshold': 1.3, 'rotate': 0.25}\n",
      "- PIV parameters -\n",
      "winsize: 28\n",
      "searchsize: 34\n",
      "overlap: 24\n",
      "dt: 0.0001\n",
      "image_check: False\n",
      "show_vertical_profiles: False\n",
      "figure_export_name: _quick_piv.tiff\n",
      "text_export_name: _quick_piv.txt\n",
      "scale_factor: 30000.0\n",
      "pixel_density: 47\n",
      "arrow_width: 0.001\n",
      "show_result: False\n",
      "u_bound: [-50, 50]\n",
      "v_bound: [-1000, 0]\n",
      "transpose: False\n",
      "crop: [0, 0, 408, 0]\n",
      "sn_threshold: 1.3\n",
      "rotate: 0.25\n",
      "Read image from: 0302_Exp24\n"
     ]
    },
    {
     "name": "stderr",
     "output_type": "stream",
     "text": [
      "/Users/yeonsu/Documents/github/piv_recipes/openpiv_recipes.py:171: RuntimeWarning: invalid value encountered in double_scalars\n",
      "  dt=ns.dt,\n"
     ]
    },
    {
     "name": "stdout",
     "output_type": "stream",
     "text": [
      "Number of invalid vectors: 0\n",
      "Mean of u: 42.150\n",
      "Std of u: 6.013\n",
      "Mean of v: -163.454\n",
      "Std of v: 31.924\n"
     ]
    }
   ],
   "source": [
    "search_dict = {'path': '0302_Exp24'}\n",
    "\n",
    "piv_cond = {\n",
    "    \"winsize\": 28, \"searchsize\": 34, \"overlap\": 24,\n",
    "    \"pixel_density\": 47,\"scale_factor\": 3e4, \"arrow_width\": 0.001,\n",
    "    \"u_bound\": [-50,50],\"v_bound\": [-1000,0],\n",
    "    \"transpose\": False, \"show_result\": False, \"crop\": [0,0,408,0],\n",
    "    \"sn_threshold\": 1.3,'dt': 0.0001,\n",
    "    \"rotate\": 0.25\n",
    "}\n",
    "\n",
    "pi.set_piv_param(piv_cond)\n",
    "\n",
    "print(pi.piv_param)\n",
    "\n",
    "x,y,u,v = pi.quick_piv(search_dict,index_a = 5, index_b = 6)"
   ]
  },
  {
   "cell_type": "code",
   "execution_count": 59,
   "metadata": {},
   "outputs": [
    {
     "name": "stdout",
     "output_type": "stream",
     "text": [
      "{'winsize': 28, 'searchsize': 34, 'overlap': 24, 'dt': 0.0001, 'image_check': False, 'show_vertical_profiles': False, 'figure_export_name': '_quick_piv.tiff', 'text_export_name': '_quick_piv.txt', 'scale_factor': 30000.0, 'pixel_density': 47, 'arrow_width': 0.001, 'show_result': False, 'u_bound': [-50, 50], 'v_bound': [-1000, 0], 'transpose': False, 'crop': [0, 0, 408, 0], 'sn_threshold': 1.3, 'rotate': 0.25}\n",
      "- PIV parameters -\n",
      "winsize: 28\n",
      "searchsize: 34\n",
      "overlap: 24\n",
      "dt: 0.0001\n",
      "image_check: False\n",
      "show_vertical_profiles: False\n",
      "figure_export_name: _quick_piv.tiff\n",
      "text_export_name: _quick_piv.txt\n",
      "scale_factor: 30000.0\n",
      "pixel_density: 47\n",
      "arrow_width: 0.001\n",
      "show_result: False\n",
      "u_bound: [-50, 50]\n",
      "v_bound: [-1000, 0]\n",
      "transpose: False\n",
      "crop: [0, 0, 408, 0]\n",
      "sn_threshold: 1.3\n",
      "rotate: 0.25\n",
      "Read image from: 0302_Exp25\n",
      "Number of invalid vectors: 0\n",
      "Mean of u: -4.677\n",
      "Std of u: 6.787\n",
      "Mean of v: -407.966\n",
      "Std of v: 55.593\n"
     ]
    }
   ],
   "source": [
    "search_dict = {'path': '0302_Exp25'}\n",
    "\n",
    "piv_cond = {\n",
    "    \"winsize\": 28, \"searchsize\": 34, \"overlap\": 24,\n",
    "    \"pixel_density\": 47,\"scale_factor\": 3e4, \"arrow_width\": 0.001,\n",
    "    \"u_bound\": [-50,50],\"v_bound\": [-1000,0],\n",
    "    \"transpose\": False, \"show_result\": False, \"crop\": [0,0,408,0],\n",
    "    \"sn_threshold\": 1.3,'dt': 0.0001,\n",
    "    \"rotate\": 0.25\n",
    "}\n",
    "\n",
    "pi.set_piv_param(piv_cond)\n",
    "\n",
    "print(pi.piv_param)\n",
    "\n",
    "x,y,u,v = pi.quick_piv(search_dict,index_a = 5, index_b = 6)"
   ]
  },
  {
   "cell_type": "code",
   "execution_count": 60,
   "metadata": {},
   "outputs": [
    {
     "name": "stdout",
     "output_type": "stream",
     "text": [
      "{'winsize': 28, 'searchsize': 34, 'overlap': 24, 'dt': 0.0003, 'image_check': False, 'show_vertical_profiles': False, 'figure_export_name': '_quick_piv.tiff', 'text_export_name': '_quick_piv.txt', 'scale_factor': 30000.0, 'pixel_density': 47, 'arrow_width': 0.001, 'show_result': False, 'u_bound': [-50, 50], 'v_bound': [-1000, 0], 'transpose': False, 'crop': [0, 0, 408, 0], 'sn_threshold': 1.3, 'rotate': 0.25}\n",
      "- PIV parameters -\n",
      "winsize: 28\n",
      "searchsize: 34\n",
      "overlap: 24\n",
      "dt: 0.0003\n",
      "image_check: False\n",
      "show_vertical_profiles: False\n",
      "figure_export_name: _quick_piv.tiff\n",
      "text_export_name: _quick_piv.txt\n",
      "scale_factor: 30000.0\n",
      "pixel_density: 47\n",
      "arrow_width: 0.001\n",
      "show_result: False\n",
      "u_bound: [-50, 50]\n",
      "v_bound: [-1000, 0]\n",
      "transpose: False\n",
      "crop: [0, 0, 408, 0]\n",
      "sn_threshold: 1.3\n",
      "rotate: 0.25\n",
      "Read image from: 0302_Exp26\n",
      "Number of invalid vectors: 0\n",
      "Mean of u: -1.960\n",
      "Std of u: 3.241\n",
      "Mean of v: -455.439\n",
      "Std of v: 59.017\n"
     ]
    }
   ],
   "source": [
    "search_dict = {'path': '0302_Exp26'}\n",
    "\n",
    "piv_cond = {\n",
    "    \"winsize\": 28, \"searchsize\": 34, \"overlap\": 24,\n",
    "    \"pixel_density\": 47,\"scale_factor\": 3e4, \"arrow_width\": 0.001,\n",
    "    \"u_bound\": [-50,50],\"v_bound\": [-1000,0],\n",
    "    \"transpose\": False, \"show_result\": False, \"crop\": [0,0,408,0],\n",
    "    \"sn_threshold\": 1.3,'dt': 0.0003,\n",
    "    \"rotate\": 0.25\n",
    "}\n",
    "\n",
    "pi.set_piv_param(piv_cond)\n",
    "\n",
    "print(pi.piv_param)\n",
    "\n",
    "x,y,u,v = pi.quick_piv(search_dict,index_a = 5, index_b = 6)"
   ]
  },
  {
   "cell_type": "code",
   "execution_count": 61,
   "metadata": {},
   "outputs": [
    {
     "name": "stdout",
     "output_type": "stream",
     "text": [
      "{'winsize': 28, 'searchsize': 34, 'overlap': 24, 'dt': 0.0003, 'image_check': False, 'show_vertical_profiles': False, 'figure_export_name': '_quick_piv.tiff', 'text_export_name': '_quick_piv.txt', 'scale_factor': 30000.0, 'pixel_density': 47, 'arrow_width': 0.001, 'show_result': False, 'u_bound': [-50, 50], 'v_bound': [-1000, 0], 'transpose': False, 'crop': [0, 0, 408, 0], 'sn_threshold': 1.3, 'rotate': 0.25}\n",
      "- PIV parameters -\n",
      "winsize: 28\n",
      "searchsize: 34\n",
      "overlap: 24\n",
      "dt: 0.0003\n",
      "image_check: False\n",
      "show_vertical_profiles: False\n",
      "figure_export_name: _quick_piv.tiff\n",
      "text_export_name: _quick_piv.txt\n",
      "scale_factor: 30000.0\n",
      "pixel_density: 47\n",
      "arrow_width: 0.001\n",
      "show_result: False\n",
      "u_bound: [-50, 50]\n",
      "v_bound: [-1000, 0]\n",
      "transpose: False\n",
      "crop: [0, 0, 408, 0]\n",
      "sn_threshold: 1.3\n",
      "rotate: 0.25\n",
      "Read image from: 0302_Exp27\n",
      "Number of invalid vectors: 0\n",
      "Mean of u: 2.102\n",
      "Std of u: 5.554\n",
      "Mean of v: -447.654\n",
      "Std of v: 53.684\n"
     ]
    }
   ],
   "source": [
    "search_dict = {'path': '0302_Exp27'}\n",
    "\n",
    "piv_cond = {\n",
    "    \"winsize\": 28, \"searchsize\": 34, \"overlap\": 24,\n",
    "    \"pixel_density\": 47,\"scale_factor\": 3e4, \"arrow_width\": 0.001,\n",
    "    \"u_bound\": [-50,50],\"v_bound\": [-1000,0],\n",
    "    \"transpose\": False, \"show_result\": False, \"crop\": [0,0,408,0],\n",
    "    \"sn_threshold\": 1.3,'dt': 0.0003,\n",
    "    \"rotate\": 0.25\n",
    "}\n",
    "\n",
    "pi.set_piv_param(piv_cond)\n",
    "\n",
    "print(pi.piv_param)\n",
    "\n",
    "x,y,u,v = pi.quick_piv(search_dict,index_a = 5, index_b = 6)"
   ]
  },
  {
   "cell_type": "code",
   "execution_count": 62,
   "metadata": {},
   "outputs": [
    {
     "name": "stdout",
     "output_type": "stream",
     "text": [
      "{'winsize': 28, 'searchsize': 34, 'overlap': 24, 'dt': 0.0001, 'image_check': False, 'show_vertical_profiles': False, 'figure_export_name': '_quick_piv.tiff', 'text_export_name': '_quick_piv.txt', 'scale_factor': 30000.0, 'pixel_density': 47, 'arrow_width': 0.001, 'show_result': False, 'u_bound': [-50, 50], 'v_bound': [-1000, 0], 'transpose': False, 'crop': [0, 0, 408, 0], 'sn_threshold': 1.3, 'rotate': 0.25}\n",
      "- PIV parameters -\n",
      "winsize: 28\n",
      "searchsize: 34\n",
      "overlap: 24\n",
      "dt: 0.0001\n",
      "image_check: False\n",
      "show_vertical_profiles: False\n",
      "figure_export_name: _quick_piv.tiff\n",
      "text_export_name: _quick_piv.txt\n",
      "scale_factor: 30000.0\n",
      "pixel_density: 47\n",
      "arrow_width: 0.001\n",
      "show_result: False\n",
      "u_bound: [-50, 50]\n",
      "v_bound: [-1000, 0]\n",
      "transpose: False\n",
      "crop: [0, 0, 408, 0]\n",
      "sn_threshold: 1.3\n",
      "rotate: 0.25\n",
      "Read image from: 0302_Exp28\n",
      "Number of invalid vectors: 0\n",
      "Mean of u: -1.226\n",
      "Std of u: 9.813\n",
      "Mean of v: -393.770\n",
      "Std of v: 47.885\n"
     ]
    }
   ],
   "source": [
    "search_dict = {'path': '0302_Exp28'}\n",
    "\n",
    "piv_cond = {\n",
    "    \"winsize\": 28, \"searchsize\": 34, \"overlap\": 24,\n",
    "    \"pixel_density\": 47,\"scale_factor\": 3e4, \"arrow_width\": 0.001,\n",
    "    \"u_bound\": [-50,50],\"v_bound\": [-1000,0],\n",
    "    \"transpose\": False, \"show_result\": False, \"crop\": [0,0,408,0],\n",
    "    \"sn_threshold\": 1.3,'dt': 0.0001,\n",
    "    \"rotate\": 0.25\n",
    "}\n",
    "\n",
    "pi.set_piv_param(piv_cond)\n",
    "\n",
    "print(pi.piv_param)\n",
    "\n",
    "x,y,u,v = pi.quick_piv(search_dict,index_a = 5, index_b = 6)"
   ]
  },
  {
   "cell_type": "code",
   "execution_count": 66,
   "metadata": {},
   "outputs": [
    {
     "name": "stdout",
     "output_type": "stream",
     "text": [
      "{'winsize': 28, 'searchsize': 34, 'overlap': 24, 'dt': 0.0001, 'image_check': False, 'show_vertical_profiles': False, 'figure_export_name': '_quick_piv.tiff', 'text_export_name': '_quick_piv.txt', 'scale_factor': 30000.0, 'pixel_density': 47, 'arrow_width': 0.001, 'show_result': False, 'u_bound': [-50, 50], 'v_bound': [-1000, 0], 'transpose': False, 'crop': [0, 0, 408, 0], 'sn_threshold': 1.3, 'rotate': 0.25}\n",
      "- PIV parameters -\n",
      "winsize: 28\n",
      "searchsize: 34\n",
      "overlap: 24\n",
      "dt: 0.0001\n",
      "image_check: False\n",
      "show_vertical_profiles: False\n",
      "figure_export_name: _quick_piv.tiff\n",
      "text_export_name: _quick_piv.txt\n",
      "scale_factor: 30000.0\n",
      "pixel_density: 47\n",
      "arrow_width: 0.001\n",
      "show_result: False\n",
      "u_bound: [-50, 50]\n",
      "v_bound: [-1000, 0]\n",
      "transpose: False\n",
      "crop: [0, 0, 408, 0]\n",
      "sn_threshold: 1.3\n",
      "rotate: 0.25\n",
      "Read image from: 0302_Exp29\n",
      "Number of invalid vectors: 0\n",
      "Mean of u: -1.987\n",
      "Std of u: 7.774\n",
      "Mean of v: -405.762\n",
      "Std of v: 49.559\n"
     ]
    }
   ],
   "source": [
    "search_dict = {'path': '0302_Exp29'}\n",
    "\n",
    "piv_cond = {\n",
    "    \"winsize\": 28, \"searchsize\": 34, \"overlap\": 24,\n",
    "    \"pixel_density\": 47,\"scale_factor\": 3e4, \"arrow_width\": 0.001,\n",
    "    \"u_bound\": [-50,50],\"v_bound\": [-1000,0],\n",
    "    \"transpose\": False, \"show_result\": False, \"crop\": [0,0,408,0],\n",
    "    \"sn_threshold\": 1.3,'dt': 0.0001,\n",
    "    \"rotate\": 0.25\n",
    "}\n",
    "\n",
    "pi.set_piv_param(piv_cond)\n",
    "\n",
    "print(pi.piv_param)\n",
    "\n",
    "x,y,u,v = pi.quick_piv(search_dict,index_a = 5, index_b = 6)"
   ]
  },
  {
   "cell_type": "code",
   "execution_count": 64,
   "metadata": {},
   "outputs": [
    {
     "name": "stdout",
     "output_type": "stream",
     "text": [
      "{'winsize': 28, 'searchsize': 34, 'overlap': 24, 'dt': 0.0003, 'image_check': False, 'show_vertical_profiles': False, 'figure_export_name': '_quick_piv.tiff', 'text_export_name': '_quick_piv.txt', 'scale_factor': 30000.0, 'pixel_density': 47, 'arrow_width': 0.001, 'show_result': False, 'u_bound': [-50, 50], 'v_bound': [-1000, 0], 'transpose': False, 'crop': [0, 0, 408, 0], 'sn_threshold': 1.3, 'rotate': 0.25}\n",
      "- PIV parameters -\n",
      "winsize: 28\n",
      "searchsize: 34\n",
      "overlap: 24\n",
      "dt: 0.0003\n",
      "image_check: False\n",
      "show_vertical_profiles: False\n",
      "figure_export_name: _quick_piv.tiff\n",
      "text_export_name: _quick_piv.txt\n",
      "scale_factor: 30000.0\n",
      "pixel_density: 47\n",
      "arrow_width: 0.001\n",
      "show_result: False\n",
      "u_bound: [-50, 50]\n",
      "v_bound: [-1000, 0]\n",
      "transpose: False\n",
      "crop: [0, 0, 408, 0]\n",
      "sn_threshold: 1.3\n",
      "rotate: 0.25\n",
      "Read image from: 0302_Exp30\n",
      "Number of invalid vectors: 0\n",
      "Mean of u: 0.748\n",
      "Std of u: 3.728\n",
      "Mean of v: -446.601\n",
      "Std of v: 42.275\n"
     ]
    }
   ],
   "source": [
    "search_dict = {'path': '0302_Exp30'}\n",
    "\n",
    "piv_cond = {\n",
    "    \"winsize\": 28, \"searchsize\": 34, \"overlap\": 24,\n",
    "    \"pixel_density\": 47,\"scale_factor\": 3e4, \"arrow_width\": 0.001,\n",
    "    \"u_bound\": [-50,50],\"v_bound\": [-1000,0],\n",
    "    \"transpose\": False, \"show_result\": False, \"crop\": [0,0,408,0],\n",
    "    \"sn_threshold\": 1.3,'dt': 0.0003,\n",
    "    \"rotate\": 0.25\n",
    "}\n",
    "\n",
    "pi.set_piv_param(piv_cond)\n",
    "\n",
    "print(pi.piv_param)\n",
    "\n",
    "x,y,u,v = pi.quick_piv(search_dict,index_a = 5, index_b = 6)"
   ]
  },
  {
   "cell_type": "code",
   "execution_count": 65,
   "metadata": {},
   "outputs": [
    {
     "name": "stdout",
     "output_type": "stream",
     "text": [
      "{'winsize': 28, 'searchsize': 34, 'overlap': 24, 'dt': 0.0003, 'image_check': False, 'show_vertical_profiles': False, 'figure_export_name': '_quick_piv.tiff', 'text_export_name': '_quick_piv.txt', 'scale_factor': 30000.0, 'pixel_density': 47, 'arrow_width': 0.001, 'show_result': False, 'u_bound': [-50, 50], 'v_bound': [-1000, 0], 'transpose': False, 'crop': [0, 0, 408, 0], 'sn_threshold': 1.3, 'rotate': 0.25}\n",
      "- PIV parameters -\n",
      "winsize: 28\n",
      "searchsize: 34\n",
      "overlap: 24\n",
      "dt: 0.0003\n",
      "image_check: False\n",
      "show_vertical_profiles: False\n",
      "figure_export_name: _quick_piv.tiff\n",
      "text_export_name: _quick_piv.txt\n",
      "scale_factor: 30000.0\n",
      "pixel_density: 47\n",
      "arrow_width: 0.001\n",
      "show_result: False\n",
      "u_bound: [-50, 50]\n",
      "v_bound: [-1000, 0]\n",
      "transpose: False\n",
      "crop: [0, 0, 408, 0]\n",
      "sn_threshold: 1.3\n",
      "rotate: 0.25\n",
      "Read image from: 0302_Exp31\n",
      "Number of invalid vectors: 0\n",
      "Mean of u: 0.624\n",
      "Std of u: 10.882\n",
      "Mean of v: -30.758\n",
      "Std of v: 53.455\n"
     ]
    }
   ],
   "source": [
    "search_dict = {'path': '0302_Exp31'}\n",
    "\n",
    "piv_cond = {\n",
    "    \"winsize\": 28, \"searchsize\": 34, \"overlap\": 24,\n",
    "    \"pixel_density\": 47,\"scale_factor\": 3e4, \"arrow_width\": 0.001,\n",
    "    \"u_bound\": [-50,50],\"v_bound\": [-1000,0],\n",
    "    \"transpose\": False, \"show_result\": False, \"crop\": [0,0,408,0],\n",
    "    \"sn_threshold\": 1.3,'dt': 0.0003,\n",
    "    \"rotate\": 0.25\n",
    "}\n",
    "\n",
    "pi.set_piv_param(piv_cond)\n",
    "\n",
    "print(pi.piv_param)\n",
    "\n",
    "x,y,u,v = pi.quick_piv(search_dict,index_a = 5, index_b = 6)"
   ]
  },
  {
   "cell_type": "code",
   "execution_count": null,
   "metadata": {},
   "outputs": [],
   "source": []
  }
 ],
 "metadata": {
  "kernelspec": {
   "display_name": "Python 3",
   "language": "python",
   "name": "python3"
  },
  "language_info": {
   "codemirror_mode": {
    "name": "ipython",
    "version": 3
   },
   "file_extension": ".py",
   "mimetype": "text/x-python",
   "name": "python",
   "nbconvert_exporter": "python",
   "pygments_lexer": "ipython3",
   "version": "3.6.13"
  }
 },
 "nbformat": 4,
 "nbformat_minor": 4
}
