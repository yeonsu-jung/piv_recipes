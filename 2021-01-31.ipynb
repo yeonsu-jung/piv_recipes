{
 "cells": [
  {
   "cell_type": "markdown",
   "metadata": {},
   "source": [
    "import numpy as np\n",
    "\n",
    "\n",
    "1.\tThe image pairs do not give proper cross-correlation results or velocity vectors and only some of the cases work with a very narrow range of parameters. \n",
    "\n",
    "It seems that 1/20 data works. Please see the slide on page. XX.\n",
    "\n",
    "2.\tNeither openPIV nor PIVlab is able to resolve the problem. \n",
    "\n",
    "3.\tWhen the min/max limits of the velocities are used to choose an acceptable range of velocities, the results are all over the place and there is no one cluster where the bulk of the results are there and the rest being outliers. That makes it really hard to distinguish between correct and incorrect vectors. \n",
    "\n",
    "4.\tThe groups that give a BL-like result give a velocity magnitude of about 1/4-1/3 of the number read from the flowmeter and unless there is something missing about the scale factor, this makes the results questionable. Were these results coincidentally BL-like? or is there something else in the experiment that could have made it possible for the velocity to become lower?\n",
    "\n",
    "** check with 500 us.\n",
    "\n",
    "5.\tFrom what it seems there are enough particles suspended in the water to give readable images, but the observation that we need larger windows to make it work makes me think whether the timing between the two pulses is too far away that we lose the particle pairs between the two images? Or is there too much 3D motion that the particles go in the out-of-plane direction (up-down motion)? \n",
    "\n",
    "\n",
    "\n",
    "6.\tIdentifying and removing the edge of the wall or not doing that does not help or hurt the PIV algorithms. Either way, it is not possible to get meaningful results. \n",
    "\n",
    "\n",
    "\n",
    "7.\tThe sensor array used is very slim in the streamwise direction. That allows for only 3-4 rows of data in that direction. Our main source of particle loss is most likely to be in the streamwise direction, so even increasing the search area won't be helpful if there is no information within the search window. \n",
    "\n"
   ]
  },
  {
   "cell_type": "code",
   "execution_count": 2,
   "metadata": {},
   "outputs": [],
   "source": [
    "import numpy as np\n",
    "from matplotlib import pyplot as plt\n",
    "\n",
    "import openpiv_recipes\n",
    "import os"
   ]
  },
  {
   "cell_type": "code",
   "execution_count": 5,
   "metadata": {},
   "outputs": [],
   "source": [
    "folder_path = 'D:/ROWLAND/piv-data/2021-01-19'\n",
    "pi = openpiv_recipes.ParticleImage(folder_path)"
   ]
  },
  {
   "cell_type": "code",
   "execution_count": 9,
   "metadata": {},
   "outputs": [],
   "source": [
    "pi.param_dict_list\n",
    "\n",
    "lis = [x for x in pi.param_dict_list if x['sample'] == 'Flat_10' and x['motor'] == 25.0]"
   ]
  },
  {
   "cell_type": "code",
   "execution_count": 10,
   "metadata": {},
   "outputs": [
    {
     "data": {
      "text/plain": [
       "[{'sample': 'Flat_10',\n",
       "  'motor': 25.0,\n",
       "  'pos': 1.0,\n",
       "  'VOFFSET': 0.0,\n",
       "  'ag': 2.0,\n",
       "  'laser': 10.0,\n",
       "  'path': 'Flat_10_motor25.00_pos1_VOFFSET0_01-18_ag2_laser10'},\n",
       " {'sample': 'Flat_10',\n",
       "  'motor': 25.0,\n",
       "  'pos': 1.0,\n",
       "  'VOFFSET': 80.0,\n",
       "  'ag': 2.0,\n",
       "  'laser': 10.0,\n",
       "  'path': 'Flat_10_motor25.00_pos1_VOFFSET80_01-18_ag2_laser10'},\n",
       " {'sample': 'Flat_10',\n",
       "  'motor': 25.0,\n",
       "  'pos': 1.0,\n",
       "  'VOFFSET': 160.0,\n",
       "  'ag': 2.0,\n",
       "  'laser': 10.0,\n",
       "  'path': 'Flat_10_motor25.00_pos1_VOFFSET160_01-18_ag2_laser10'},\n",
       " {'sample': 'Flat_10',\n",
       "  'motor': 25.0,\n",
       "  'pos': 1.0,\n",
       "  'VOFFSET': 240.0,\n",
       "  'ag': 2.0,\n",
       "  'laser': 10.0,\n",
       "  'path': 'Flat_10_motor25.00_pos1_VOFFSET240_01-18_ag2_laser10'},\n",
       " {'sample': 'Flat_10',\n",
       "  'motor': 25.0,\n",
       "  'pos': 1.0,\n",
       "  'VOFFSET': 320.0,\n",
       "  'ag': 2.0,\n",
       "  'laser': 10.0,\n",
       "  'path': 'Flat_10_motor25.00_pos1_VOFFSET320_01-18_ag2_laser10'},\n",
       " {'sample': 'Flat_10',\n",
       "  'motor': 25.0,\n",
       "  'pos': 1.0,\n",
       "  'VOFFSET': 400.0,\n",
       "  'ag': 2.0,\n",
       "  'laser': 10.0,\n",
       "  'path': 'Flat_10_motor25.00_pos1_VOFFSET400_01-18_ag2_laser10'},\n",
       " {'sample': 'Flat_10',\n",
       "  'motor': 25.0,\n",
       "  'pos': 1.0,\n",
       "  'VOFFSET': 480.0,\n",
       "  'ag': 2.0,\n",
       "  'laser': 10.0,\n",
       "  'path': 'Flat_10_motor25.00_pos1_VOFFSET480_01-18_ag2_laser10'},\n",
       " {'sample': 'Flat_10',\n",
       "  'motor': 25.0,\n",
       "  'pos': 1.0,\n",
       "  'VOFFSET': 560.0,\n",
       "  'ag': 2.0,\n",
       "  'laser': 10.0,\n",
       "  'path': 'Flat_10_motor25.00_pos1_VOFFSET560_01-18_ag2_laser10'},\n",
       " {'sample': 'Flat_10',\n",
       "  'motor': 25.0,\n",
       "  'pos': 1.0,\n",
       "  'VOFFSET': 640.0,\n",
       "  'ag': 2.0,\n",
       "  'laser': 10.0,\n",
       "  'path': 'Flat_10_motor25.00_pos1_VOFFSET640_01-18_ag2_laser10'},\n",
       " {'sample': 'Flat_10',\n",
       "  'motor': 25.0,\n",
       "  'pos': 1.0,\n",
       "  'VOFFSET': 720.0,\n",
       "  'ag': 2.0,\n",
       "  'laser': 10.0,\n",
       "  'path': 'Flat_10_motor25.00_pos1_VOFFSET720_01-18_ag2_laser10'},\n",
       " {'sample': 'Flat_10',\n",
       "  'motor': 25.0,\n",
       "  'pos': 1.0,\n",
       "  'VOFFSET': 800.0,\n",
       "  'ag': 2.0,\n",
       "  'laser': 10.0,\n",
       "  'path': 'Flat_10_motor25.00_pos1_VOFFSET800_01-18_ag2_laser10'},\n",
       " {'sample': 'Flat_10',\n",
       "  'motor': 25.0,\n",
       "  'pos': 1.0,\n",
       "  'VOFFSET': 880.0,\n",
       "  'ag': 2.0,\n",
       "  'laser': 10.0,\n",
       "  'path': 'Flat_10_motor25.00_pos1_VOFFSET880_01-18_ag2_laser10'}]"
      ]
     },
     "execution_count": 10,
     "metadata": {},
     "output_type": "execute_result"
    }
   ],
   "source": [
    "lis"
   ]
  },
  {
   "cell_type": "code",
   "execution_count": null,
   "metadata": {},
   "outputs": [],
   "source": []
  }
 ],
 "metadata": {
  "kernelspec": {
   "display_name": "Python 3",
   "language": "python",
   "name": "python3"
  },
  "language_info": {
   "codemirror_mode": {
    "name": "ipython",
    "version": 3
   },
   "file_extension": ".py",
   "mimetype": "text/x-python",
   "name": "python",
   "nbconvert_exporter": "python",
   "pygments_lexer": "ipython3",
   "version": "3.7.8"
  }
 },
 "nbformat": 4,
 "nbformat_minor": 2
}
