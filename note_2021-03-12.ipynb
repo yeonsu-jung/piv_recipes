{
 "cells": [
  {
   "cell_type": "code",
   "execution_count": 35,
   "id": "heavy-pierce",
   "metadata": {},
   "outputs": [
    {
     "data": {
      "text/plain": [
       "<module 'openpiv_recipes' from '/Users/yeonsu/Documents/github/piv_recipes/openpiv_recipes.py'>"
      ]
     },
     "execution_count": 35,
     "metadata": {},
     "output_type": "execute_result"
    }
   ],
   "source": [
    "import openpiv_recipes as piv\n",
    "import importlib\n",
    "import numpy as np\n",
    "import os\n",
    "import time\n",
    "\n",
    "from matplotlib import pyplot as plt\n",
    "\n",
    "t = time.time()\n",
    "importlib.reload(piv)"
   ]
  },
  {
   "cell_type": "code",
   "execution_count": 36,
   "id": "grand-assist",
   "metadata": {},
   "outputs": [],
   "source": [
    "folder_path = '/Users/yeonsu/Dropbox (Harvard University)/Riblet/data/piv-data/2021-03-11/Flat_10 (black)_motor15'\n",
    "results_folder_path = '/Users/yeonsu/Dropbox (Harvard University)/Riblet/data/piv-results'\n",
    "\n",
    "# folder_path = \"C:\\\\Users\\\\yj\\\\Dropbox (Harvard University)\\\\Riblet\\\\data\\\\piv-data\\\\2021-03-09\"\n",
    "# results_folder_path = 'C:\\\\Users\\\\yj\\\\Dropbox (Harvard University)\\\\Riblet\\\\data\\\\piv-results'\n",
    "\n",
    "pi = piv.ParticleImage(folder_path,results_folder_path)"
   ]
  },
  {
   "cell_type": "code",
   "execution_count": 37,
   "id": "ahead-funeral",
   "metadata": {},
   "outputs": [],
   "source": [
    "piv_cond = {\n",
    "    \"winsize\": 28, \"searchsize\": 34, \"overlap\": 20,\n",
    "    \"pixel_density\": 40,\"scale_factor\": 3e4, \"arrow_width\": 0.001,\n",
    "    \"u_bound\": [-50,50],\"v_bound\": [-1000,0],\n",
    "    \"transpose\": False, \"crop\": [0,0,450,0],    \n",
    "    \"sn_threshold\": 1.000001,'dt': 0.0001,\n",
    "    \"rotate\": 0.25, \"save_result\": True,\"show_result\": False\n",
    "}\n",
    "pi.set_piv_param(piv_cond)"
   ]
  },
  {
   "cell_type": "code",
   "execution_count": 38,
   "id": "interim-airline",
   "metadata": {},
   "outputs": [
    {
     "name": "stdout",
     "output_type": "stream",
     "text": [
      "Read image from: Flat_10 (black)_motor15.00_pos4_VOFFSET210_timing100_ag1_dg1_laser5_[03-11]\n",
      "Read image from: Flat_10 (black)_motor15.00_pos4_VOFFSET210_timing100_ag1_dg1_laser5_[03-11]\n",
      "- PIV parameters -\n",
      "winsize: 28\n",
      "searchsize: 34\n",
      "overlap: 20\n",
      "dt: 0.0001\n",
      "image_check: False\n",
      "show_vertical_profiles: False\n",
      "figure_export_name: _quick_piv.tiff\n",
      "text_export_name: _quick_piv.txt\n",
      "scale_factor: 30000.0\n",
      "pixel_density: 40\n",
      "arrow_width: 0.001\n",
      "show_result: False\n",
      "u_bound: [-50, 50]\n",
      "v_bound: [-1000, 0]\n",
      "transpose: False\n",
      "crop: [0, 0, 450, 0]\n",
      "sn_threshold: 1.000001\n",
      "rotate: 0.25\n",
      "save_result: True\n",
      "Read image from: Flat_10 (black)_motor15.00_pos4_VOFFSET210_timing100_ag1_dg1_laser5_[03-11]\n",
      "Number of invalid vectors: 0\n",
      "Mean of u: 2.284\n",
      "Std of u: 12.429\n",
      "Mean of v: -452.404\n",
      "Std of v: 92.663\n"
     ]
    }
   ],
   "source": [
    "sd = {'path': 'Flat_10 (black)_motor15.00_pos4_VOFFSET210_timing100_ag1_dg1_laser5_[03-11]'}\n",
    "ind = pi.check_proper_index(sd,index_a = 10)\n",
    "dummy = pi.quick_piv(sd,index_a = ind, index_b = ind + 1)"
   ]
  },
  {
   "cell_type": "code",
   "execution_count": 39,
   "id": "specialized-institute",
   "metadata": {},
   "outputs": [
    {
     "name": "stdout",
     "output_type": "stream",
     "text": [
      "Read image from: Flat_10 (black)_motor15.00_pos4_VOFFSET210_timing500_ag1_dg1_laser5_[03-11]\n",
      "Read image from: Flat_10 (black)_motor15.00_pos4_VOFFSET210_timing500_ag1_dg1_laser5_[03-11]\n",
      "- PIV parameters -\n",
      "winsize: 28\n",
      "searchsize: 34\n",
      "overlap: 20\n",
      "dt: 0.0005\n",
      "image_check: False\n",
      "show_vertical_profiles: False\n",
      "figure_export_name: _quick_piv.tiff\n",
      "text_export_name: _quick_piv.txt\n",
      "scale_factor: 30000.0\n",
      "pixel_density: 40\n",
      "arrow_width: 0.001\n",
      "show_result: False\n",
      "u_bound: [-50, 50]\n",
      "v_bound: [-1000, 0]\n",
      "transpose: False\n",
      "crop: [0, 0, 450, 0]\n",
      "sn_threshold: 1.000001\n",
      "rotate: 0.25\n",
      "save_result: True\n",
      "Read image from: Flat_10 (black)_motor15.00_pos4_VOFFSET210_timing500_ag1_dg1_laser5_[03-11]\n",
      "Number of invalid vectors: 0\n",
      "Mean of u: -3.181\n",
      "Std of u: 4.821\n",
      "Mean of v: -481.159\n",
      "Std of v: 96.360\n"
     ]
    }
   ],
   "source": [
    "piv_cond = {'dt': 0.0005}\n",
    "pi.set_piv_param(piv_cond)\n",
    "\n",
    "sd = {'path': 'Flat_10 (black)_motor15.00_pos4_VOFFSET210_timing500_ag1_dg1_laser5_[03-11]'}\n",
    "ind = pi.check_proper_index(sd,index_a = 10)\n",
    "dummy = pi.quick_piv(sd,index_a = ind, index_b = ind + 1)"
   ]
  },
  {
   "cell_type": "code",
   "execution_count": 27,
   "id": "intimate-pride",
   "metadata": {},
   "outputs": [
    {
     "name": "stdout",
     "output_type": "stream",
     "text": [
      "Read image from: Flat_10 (black)_motor15.00_pos5_VOFFSET210_timing500_ag1_dg1_laser5_[03-11]\n",
      "Read image from: Flat_10 (black)_motor15.00_pos5_VOFFSET210_timing500_ag1_dg1_laser5_[03-11]\n",
      "- PIV parameters -\n",
      "winsize: 28\n",
      "searchsize: 34\n",
      "overlap: 20\n",
      "dt: 0.0005\n",
      "image_check: False\n",
      "show_vertical_profiles: False\n",
      "figure_export_name: _quick_piv.tiff\n",
      "text_export_name: _quick_piv.txt\n",
      "scale_factor: 30000.0\n",
      "pixel_density: 40\n",
      "arrow_width: 0.001\n",
      "show_result: False\n",
      "u_bound: [-50, 50]\n",
      "v_bound: [-1000, 0]\n",
      "transpose: False\n",
      "crop: [0, 0, 450, 0]\n",
      "sn_threshold: 1.000001\n",
      "rotate: 0.25\n",
      "save_result: True\n",
      "Read image from: Flat_10 (black)_motor15.00_pos5_VOFFSET210_timing500_ag1_dg1_laser5_[03-11]\n",
      "Number of invalid vectors: 0\n",
      "Mean of u: -0.015\n",
      "Std of u: 3.321\n",
      "Mean of v: -430.231\n",
      "Std of v: 97.921\n"
     ]
    }
   ],
   "source": [
    "piv_cond = {'dt': 0.0005}\n",
    "pi.set_piv_param(piv_cond)\n",
    "\n",
    "sd = {'path': 'Flat_10 (black)_motor15.00_pos5_VOFFSET210_timing500_ag1_dg1_laser5_[03-11]'}\n",
    "ind = pi.check_proper_index(sd,index_a = 10)\n",
    "dummy = pi.quick_piv(sd,index_a = ind, index_b = ind + 1)"
   ]
  },
  {
   "cell_type": "code",
   "execution_count": 28,
   "id": "compliant-nickname",
   "metadata": {},
   "outputs": [
    {
     "name": "stdout",
     "output_type": "stream",
     "text": [
      "Read image from: Flat_10 (black)_motor15.00_pos5_VOFFSET210_timing100_ag1_dg1_laser5_[03-11]\n",
      "Read image from: Flat_10 (black)_motor15.00_pos5_VOFFSET210_timing100_ag1_dg1_laser5_[03-11]\n",
      "- PIV parameters -\n",
      "winsize: 28\n",
      "searchsize: 34\n",
      "overlap: 20\n",
      "dt: 0.0001\n",
      "image_check: False\n",
      "show_vertical_profiles: False\n",
      "figure_export_name: _quick_piv.tiff\n",
      "text_export_name: _quick_piv.txt\n",
      "scale_factor: 30000.0\n",
      "pixel_density: 40\n",
      "arrow_width: 0.001\n",
      "show_result: False\n",
      "u_bound: [-50, 50]\n",
      "v_bound: [-1000, 0]\n",
      "transpose: False\n",
      "crop: [0, 0, 450, 0]\n",
      "sn_threshold: 1.000001\n",
      "rotate: 0.25\n",
      "save_result: True\n",
      "Read image from: Flat_10 (black)_motor15.00_pos5_VOFFSET210_timing100_ag1_dg1_laser5_[03-11]\n",
      "Number of invalid vectors: 0\n",
      "Mean of u: -3.124\n",
      "Std of u: 8.299\n",
      "Mean of v: -400.113\n",
      "Std of v: 99.271\n"
     ]
    }
   ],
   "source": [
    "piv_cond = {'dt': 0.0001}\n",
    "pi.set_piv_param(piv_cond)\n",
    "\n",
    "sd = {'path': 'Flat_10 (black)_motor15.00_pos5_VOFFSET210_timing100_ag1_dg1_laser5_[03-11]'}\n",
    "ind = pi.check_proper_index(sd,index_a = 10)\n",
    "dummy = pi.quick_piv(sd,index_a = ind, index_b = ind + 1)"
   ]
  },
  {
   "cell_type": "code",
   "execution_count": null,
   "id": "effective-department",
   "metadata": {},
   "outputs": [],
   "source": []
  }
 ],
 "metadata": {
  "kernelspec": {
   "display_name": "Python 3",
   "language": "python",
   "name": "python3"
  },
  "language_info": {
   "codemirror_mode": {
    "name": "ipython",
    "version": 3
   },
   "file_extension": ".py",
   "mimetype": "text/x-python",
   "name": "python",
   "nbconvert_exporter": "python",
   "pygments_lexer": "ipython3",
   "version": "3.8.8"
  }
 },
 "nbformat": 4,
 "nbformat_minor": 5
}
