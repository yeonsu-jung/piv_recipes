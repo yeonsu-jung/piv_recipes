{
 "metadata": {
  "language_info": {
   "codemirror_mode": {
    "name": "ipython",
    "version": 3
   },
   "file_extension": ".py",
   "mimetype": "text/x-python",
   "name": "python",
   "nbconvert_exporter": "python",
   "pygments_lexer": "ipython3",
   "version": 3
  },
  "orig_nbformat": 2
 },
 "nbformat": 4,
 "nbformat_minor": 2,
 "cells": [
  {
   "cell_type": "code",
   "execution_count": null,
   "metadata": {},
   "outputs": [],
   "source": [
    "# 86decd5\n",
    "# branch: parameter search implementation\n",
    "\n",
    "import openpiv_recipes as piv\n",
    "import numpy as np\n",
    "from matplotlib import pyplot as plt\n",
    "from importlib import reload\n",
    "reload(piv)\n",
    "\n",
    "folder_path = 'C:/Users/yj/Dropbox (Harvard University)/Riblet/data/piv-data/2021-01-18'\n",
    "folder_path = '/Users/yeonsu/Dropbox (Harvard University)/Riblet/data/piv-data/2021-02-04'\n",
    "folder_path = '/Volumes/Backup Plus /ROWLAND/piv-data/2021-02-04'\n",
    "pi = piv.ParticleImage(folder_path)\n",
    "\n",
    "exp_cond_dict = {'sample': 'Flat_10', 'motor': 5}\n",
    "pi.set_piv_list(exp_cond_dict)\n",
    "\n",
    "piv_param = {\n",
    "    \"winsize\": 48,\n",
    "    \"searchsize\": 52,\n",
    "    \"overlap\": 24,\n",
    "    \"dt\": 0.0001,\n",
    "    \"image_check\": False,\n",
    "    \"show_vertical_profiles\": False,\n",
    "    \"figure_export_name\": '_quick_piv.tiff',\n",
    "    \"text_export_name\": '_quick_piv.txt',\n",
    "    \"scale_factor\": 1,            \n",
    "    \"pixel_density\": 39.545,\n",
    "    \"arrow_width\": 0.02,\n",
    "    \"show_result\": True,        \n",
    "    }"
   ]
  }
 ]
}