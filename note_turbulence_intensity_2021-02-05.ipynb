{
 "metadata": {
  "language_info": {
   "codemirror_mode": {
    "name": "ipython",
    "version": 3
   },
   "file_extension": ".py",
   "mimetype": "text/x-python",
   "name": "python",
   "nbconvert_exporter": "python",
   "pygments_lexer": "ipython3",
   "version": "3.7.8-final"
  },
  "orig_nbformat": 2,
  "kernelspec": {
   "name": "python3",
   "display_name": "Python 3",
   "language": "python"
  }
 },
 "nbformat": 4,
 "nbformat_minor": 2,
 "cells": [
  {
   "cell_type": "code",
   "execution_count": null,
   "metadata": {},
   "outputs": [],
   "source": [
    "# 49e99c4\n",
    "# branch: parameter search implementation\n",
    "\n",
    "import openpiv_recipes as piv\n",
    "import numpy as np\n",
    "from matplotlib import pyplot as plt\n",
    "from importlib import reload\n",
    "reload(piv)\n",
    "\n",
    "folder_path = 'C:/Users/yj/Dropbox (Harvard University)/Riblet/data/piv-data/2021-01-18'\n",
    "folder_path = '/Users/yeonsu/Dropbox (Harvard University)/Riblet/data/piv-data/2021-02-04'\n",
    "folder_path = '/Volumes/Backup Plus /ROWLAND/piv-data/2021-02-04'\n",
    "pi = piv.ParticleImage(folder_path)\n",
    "\n",
    "exp_cond_dict = {'sample': 'Flat_10', 'motor': 5}\n",
    "pi.set_piv_list(exp_cond_dict)\n",
    "\n",
    "piv_param = {\n",
    "    \"winsize\": 48,\n",
    "    \"searchsize\": 52,\n",
    "    \"overlap\": 24,\n",
    "    \"dt\": 0.0001,\n",
    "    \"image_check\": False,\n",
    "    \"show_vertical_profiles\": False,\n",
    "    \"figure_export_name\": '_quick_piv.tiff',\n",
    "    \"text_export_name\": '_quick_piv.txt',\n",
    "    \"scale_factor\": 1,            \n",
    "    \"pixel_density\": 39.545,\n",
    "    \"arrow_width\": 0.02,\n",
    "    \"show_result\": True,        \n",
    "    }"
   ]
  },
  {
   "source": [
    "Run PIV for the no-sample region (before leading edge)"
   ],
   "cell_type": "markdown",
   "metadata": {}
  },
  {
   "cell_type": "code",
   "execution_count": null,
   "metadata": {},
   "outputs": [],
   "source": [
    "exp_cond_dict = {'sample': 'Flat_20', 'motor': 5}\n",
    "pi.set_piv_list(exp_cond_dict)\n",
    "search_dict = {'pos': 2, 'VOFFSET': 336}\n",
    "pi.set_piv_param(piv_param)\n"
   ]
  },
  {
   "cell_type": "code",
   "execution_count": null,
   "metadata": {},
   "outputs": [],
   "source": [
    "small = {\"winsize\": 16, \"searchsize\": 20, \"overlap\": 8, \"scale_factor\": 1e3}\n",
    "pi.set_piv_param(small)\n",
    "pi.quick_piv_by_key(search_dict,index_a=100,index_b=101)\n"
   ]
  },
  {
   "cell_type": "code",
   "execution_count": null,
   "metadata": {},
   "outputs": [],
   "source": [
    "a = np.loadtxt('_quick_piv.txt')\n",
    "u_array = a[:,2]\n",
    "v_array = a[:,3]"
   ]
  },
  {
   "cell_type": "code",
   "execution_count": null,
   "metadata": {},
   "outputs": [],
   "source": [
    "u_mean = np.mean(u_array)\n",
    "u_std = np.std(u_array)\n",
    "\n",
    "v_mean = np.mean(v_array)\n",
    "v_std = np.std(v_array)"
   ]
  },
  {
   "cell_type": "code",
   "execution_count": 14,
   "metadata": {},
   "outputs": [
    {
     "output_type": "stream",
     "name": "stdout",
     "text": [
      "u = 123.95 +- 32.69 mm/s\nv = 1.68 +- 33.01 mm/s\n"
     ]
    }
   ],
   "source": [
    "print('u = %.2f +- %.2f mm/s'%(u_mean,u_std))\n",
    "print('v = %.2f +- %.2f mm/s'%(v_mean,v_std))"
   ]
  },
  {
   "cell_type": "code",
   "execution_count": null,
   "metadata": {},
   "outputs": [],
   "source": []
  }
 ]
}